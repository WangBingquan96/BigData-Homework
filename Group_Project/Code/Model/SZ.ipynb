{
 "cells": [
  {
   "cell_type": "code",
   "execution_count": null,
   "metadata": {},
   "outputs": [],
   "source": [
    "import numpy as np\n",
    "import pandas as pd\n",
    "import statsmodels.api as sm\n",
    "import matplotlib.pyplot as plt\n",
    "df= pd.read_csv(\"train_data_shenzhen.csv\",encoding=\"utf-8\",index_col = 0)\n",
    "price_mean=df.iloc[:,-1].mean()\n",
    "df1=df[df.iloc[:,-1]<price_mean*1.2]\n",
    "df1.price = df1.price/df1.room_area\n",
    "df1.head()\n",
    "#df.shape"
   ]
  },
  {
   "cell_type": "code",
   "execution_count": null,
   "metadata": {},
   "outputs": [],
   "source": [
    "n=df1.shape[0]\n",
    "k=df1.shape[1]-1\n",
    "x=df1.iloc[:,:k]\n",
    "X=sm.add_constant(x)\n",
    "y=df1.iloc[:,-1]\n",
    "y_mean=y.mean()\n",
    "model1=sm.OLS(y,X)\n",
    "results1=model1.fit()\n",
    "print(results1.summary())"
   ]
  },
  {
   "cell_type": "code",
   "execution_count": null,
   "metadata": {},
   "outputs": [],
   "source": [
    "#x1=np.linspace(0,n-1,n)\n",
    "fig, ax = plt.subplots(figsize=(8,6))\n",
    "plt.scatter(y, y-results1.fittedvalues,s=30,alpha=0.6)\n",
    "#plt.scatter(x1, results1.fittedvalues,s=30,c='r',label=\"OLS\",alpha=0.6)\n",
    "\n",
    "plt.xlabel(\"rent\")\n",
    "plt.ylabel(\"residuals\")\n",
    "plt.show()"
   ]
  },
  {
   "cell_type": "code",
   "execution_count": null,
   "metadata": {},
   "outputs": [],
   "source": [
    "X_new=X.iloc[:,[0,1,2,3,4,5,6,7,9,10,23,24,25,26,27,28,29,30,31,32,33]]\n",
    "model2=sm.OLS(y,X_new)\n",
    "results2=model2.fit()\n",
    "print(results2.summary())"
   ]
  },
  {
   "cell_type": "code",
   "execution_count": null,
   "metadata": {
    "scrolled": false
   },
   "outputs": [],
   "source": [
    "fig, ax = plt.subplots(figsize=(8,6))\n",
    "plt.scatter(y, y-results2.fittedvalues,s=30,alpha=0.6)\n",
    "#plt.scatter(x1, results2.fittedvalues,c='r',s=30,alpha=0.6,label=\"OLS\")\n",
    "plt.xlabel(\"rent\")\n",
    "plt.ylabel(\"residuals\")\n",
    "plt.show()"
   ]
  },
  {
   "cell_type": "code",
   "execution_count": null,
   "metadata": {},
   "outputs": [],
   "source": [
    "from sklearn.decomposition import PCA\n",
    "contribution=np.cumsum(pca.explained_variance_ratio_)\n",
    "contribution"
   ]
  },
  {
   "cell_type": "code",
   "execution_count": null,
   "metadata": {},
   "outputs": [],
   "source": [
    "pca = PCA(n_components=25)\n",
    "pca.fit(x)\n",
    "reduced_x=pca.fit_transform(x)\n",
    "reduced_X=sm.add_constant(reduced_x)\n",
    "y_norm=(y-y.mean())/y.std()\n",
    "model3=sm.OLS(y_norm,reduced_X)\n",
    "results3=model3.fit()\n",
    "print(results3.summary())"
   ]
  },
  {
   "cell_type": "code",
   "execution_count": null,
   "metadata": {},
   "outputs": [],
   "source": [
    "fig, ax = plt.subplots(figsize=(8,6))\n",
    "plt.scatter(y_norm, y_norm-results3.fittedvalues,s=30,alpha=0.6)\n",
    "#plt.scatter(x1, results3.fittedvalues,c='r',s=30,alpha=0.6,label=\"PCA\")\n",
    "plt.xlabel(\"rent\")\n",
    "plt.ylabel(\"residuals\")\n",
    "plt.show()"
   ]
  },
  {
   "cell_type": "code",
   "execution_count": null,
   "metadata": {},
   "outputs": [],
   "source": [
    "from sklearn.linear_model import Ridge,RidgeCV\n",
    "#model = RidgeCV(alphas=[0.1, 1.0, 10.0])\n",
    "model=RidgeCV(alphas=[0.1, 1.0, 10.0], cv=None, fit_intercept=True, scoring=None, normalize=True)\n",
    "model.fit(x, y) \n",
    "print('系数矩阵:\\n',model.coef_)\n",
    "print('常数项:\\n',model.intercept_)\n",
    "print('线性回归模型:\\n',model)\n",
    "Ridge = model.predict(x)\n",
    "print('最佳的alpha：',model.alpha_)"
   ]
  },
  {
   "cell_type": "code",
   "execution_count": null,
   "metadata": {},
   "outputs": [],
   "source": [
    "#plt.scatter(x1, y,label=\"data\",s=30,alpha=0.6)\n",
    "plt.scatter(y, y-Ridge,label=\"Ridge\",s=30,alpha=0.6)\n",
    "ax.legend(loc='best')\n",
    "plt.xlabel(\"x\")\n",
    "plt.ylabel(\"y\")\n",
    "plt.show()\n",
    "RSS=np.sum((y-Ridge)**2)\n",
    "TSS=np.sum((y-y_mean)**2)\n",
    "R_square_Ridge=1-RSS/TSS\n",
    "R_adj_Ridge=1-(n-1)*(1-R_square_Ridge)/(n-k-1)\n",
    "print('R_square：',R_square_Ridge)\n",
    "print('R_square_adjust：',R_adj_Ridge)"
   ]
  },
  {
   "cell_type": "code",
   "execution_count": null,
   "metadata": {},
   "outputs": [],
   "source": [
    "from sklearn.linear_model import Lasso,LassoCV,LassoLarsCV \n",
    "#model = LassoCV(alphas=[0.1, 1.0, 10.0])\n",
    "model=LassoCV(alphas=[0.001,0.01,0.1, 1.0, 10.0], cv=None, fit_intercept=True, normalize=True)\n",
    "model.fit(x, y)\n",
    "print('系数矩阵:\\n',model.coef_)\n",
    "print('常数项:\\n',model.intercept_)\n",
    "print('线性回归模型:\\n',model)\n",
    "LASSO = model.predict(x)\n",
    "print('最佳的alpha：',model.alpha_)"
   ]
  },
  {
   "cell_type": "code",
   "execution_count": null,
   "metadata": {},
   "outputs": [],
   "source": [
    "#plt.scatter(x1, y,label=\"data\")\n",
    "plt.scatter(y, y-LASSO,label=\"LASSO\")\n",
    "ax.legend(loc='best')\n",
    "plt.xlabel(\"x\")\n",
    "plt.ylabel(\"y\")\n",
    "plt.show()\n",
    "RSS_LASSO=np.sum((y-LASSO)**2)\n",
    "TSS=np.sum((y-y_mean)**2)\n",
    "R_square_LASSO=1-RSS_LASSO/TSS\n",
    "R_adj_LASSO=1-(n-1)*(1-R_square_LASSO)/(n-k-1)\n",
    "print('R_square：',R_square_LASSO)\n",
    "print('R_square_adjust：',R_adj_LASSO)"
   ]
  },
  {
   "cell_type": "code",
   "execution_count": null,
   "metadata": {},
   "outputs": [],
   "source": []
  }
 ],
 "metadata": {
  "kernelspec": {
   "display_name": "Python 3",
   "language": "python",
   "name": "python3"
  },
  "language_info": {
   "codemirror_mode": {
    "name": "ipython",
    "version": 3
   },
   "file_extension": ".py",
   "mimetype": "text/x-python",
   "name": "python",
   "nbconvert_exporter": "python",
   "pygments_lexer": "ipython3",
   "version": "3.7.4"
  }
 },
 "nbformat": 4,
 "nbformat_minor": 2
}
