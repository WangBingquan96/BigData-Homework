{
 "cells": [
  {
   "cell_type": "code",
   "execution_count": null,
   "metadata": {},
   "outputs": [],
   "source": [
    "import numpy as np\n",
    "import pandas as pd\n",
    "import statsmodels.api as sm\n",
    "import matplotlib.pyplot as plt\n",
    "df= pd.read_csv(\"population_price_std.csv\",encoding=\"utf-8\",index_col = 0)\n",
    "price_mean=df.iloc[:,-1].mean()\n",
    "df1=df[df.iloc[:,-1]<price_mean*1.2]\n",
    "df1.price = df1.price_mean\n",
    "df1 = df1.drop(['人口','GDP','面积'], axis=1)\n",
    "#df.shape"
   ]
  },
  {
   "cell_type": "code",
   "execution_count": null,
   "metadata": {},
   "outputs": [],
   "source": [
    "n=df1.shape[0]\n",
    "k=df1.shape[1]-1\n",
    "x=df1.iloc[:,:k]\n",
    "X=sm.add_constant(x)\n",
    "y=df1.iloc[:,-1]\n",
    "y_mean=y.mean()\n",
    "model1=sm.OLS(y,X)\n",
    "results1=model1.fit()\n",
    "print(results1.summary())"
   ]
  }
 ],
 "metadata": {
  "kernelspec": {
   "display_name": "Python 3",
   "language": "python",
   "name": "python3"
  },
  "language_info": {
   "codemirror_mode": {
    "name": "ipython",
    "version": 3
   },
   "file_extension": ".py",
   "mimetype": "text/x-python",
   "name": "python",
   "nbconvert_exporter": "python",
   "pygments_lexer": "ipython3",
   "version": "3.7.4"
  }
 },
 "nbformat": 4,
 "nbformat_minor": 2
}
