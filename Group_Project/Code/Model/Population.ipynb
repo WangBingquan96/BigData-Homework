{
 "cells": [
  {
   "cell_type": "code",
   "execution_count": 8,
   "metadata": {},
   "outputs": [
    {
     "name": "stderr",
     "output_type": "stream",
     "text": [
      "e:\\python\\lib\\site-packages\\ipykernel_launcher.py:8: UserWarning: Pandas doesn't allow columns to be created via a new attribute name - see https://pandas.pydata.org/pandas-docs/stable/indexing.html#attribute-access\n",
      "  \n"
     ]
    }
   ],
   "source": [
    "import numpy as np\n",
    "import pandas as pd\n",
    "import statsmodels.api as sm\n",
    "import matplotlib.pyplot as plt\n",
    "df= pd.read_csv(\"population_price_std.csv\",encoding=\"utf-8\",index_col = 0)\n",
    "price_mean=df.iloc[:,-1].mean()\n",
    "df1=df[df.iloc[:,-1]<price_mean*1.2]\n",
    "df1.price = df1.price_mean\n",
    "df1 = df1.drop(['人口','GDP','面积'], axis=1)\n",
    "#df.shape"
   ]
  },
  {
   "cell_type": "code",
   "execution_count": 9,
   "metadata": {},
   "outputs": [
    {
     "name": "stdout",
     "output_type": "stream",
     "text": [
      "                            OLS Regression Results                            \n",
      "==============================================================================\n",
      "Dep. Variable:             price_mean   R-squared:                       0.285\n",
      "Model:                            OLS   Adj. R-squared:                  0.183\n",
      "Method:                 Least Squares   F-statistic:                     2.791\n",
      "Date:                Mon, 20 Jan 2020   Prob (F-statistic):             0.0955\n",
      "Time:                        01:20:50   Log-Likelihood:                -2.9813\n",
      "No. Observations:                  17   AIC:                             11.96\n",
      "Df Residuals:                      14   BIC:                             14.46\n",
      "Df Model:                           2                                         \n",
      "Covariance Type:            nonrobust                                         \n",
      "==============================================================================\n",
      "                 coef    std err          t      P>|t|      [0.025      0.975]\n",
      "------------------------------------------------------------------------------\n",
      "const         -0.4118      0.151     -2.736      0.016      -0.735      -0.089\n",
      "人口密度           0.4889      0.223      2.196      0.045       0.012       0.966\n",
      "人均GDP          0.1736      0.142      1.223      0.241      -0.131       0.478\n",
      "==============================================================================\n",
      "Omnibus:                        0.340   Durbin-Watson:                   2.574\n",
      "Prob(Omnibus):                  0.844   Jarque-Bera (JB):                0.333\n",
      "Skew:                           0.272   Prob(JB):                        0.847\n",
      "Kurtosis:                       2.582   Cond. No.                         4.07\n",
      "==============================================================================\n",
      "\n",
      "Warnings:\n",
      "[1] Standard Errors assume that the covariance matrix of the errors is correctly specified.\n"
     ]
    }
   ],
   "source": [
    "n=df1.shape[0]\n",
    "k=df1.shape[1]-1\n",
    "x=df1.iloc[:,:k]\n",
    "X=sm.add_constant(x)\n",
    "y=df1.iloc[:,-1]\n",
    "y_mean=y.mean()\n",
    "model1=sm.OLS(y,X)\n",
    "results1=model1.fit()\n",
    "print(results1.summary())"
   ]
  }
 ],
 "metadata": {
  "kernelspec": {
   "display_name": "Python 3",
   "language": "python",
   "name": "python3"
  },
  "language_info": {
   "codemirror_mode": {
    "name": "ipython",
    "version": 3
   },
   "file_extension": ".py",
   "mimetype": "text/x-python",
   "name": "python",
   "nbconvert_exporter": "python",
   "pygments_lexer": "ipython3",
   "version": "3.7.4"
  }
 },
 "nbformat": 4,
 "nbformat_minor": 2
}
