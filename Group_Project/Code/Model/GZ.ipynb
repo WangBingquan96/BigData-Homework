{
 "cells": [
  {
   "cell_type": "code",
   "execution_count": 1,
   "metadata": {},
   "outputs": [
    {
     "name": "stderr",
     "output_type": "stream",
     "text": [
      "d:\\python\\lib\\site-packages\\pandas\\core\\generic.py:5208: SettingWithCopyWarning: \n",
      "A value is trying to be set on a copy of a slice from a DataFrame.\n",
      "Try using .loc[row_indexer,col_indexer] = value instead\n",
      "\n",
      "See the caveats in the documentation: http://pandas.pydata.org/pandas-docs/stable/user_guide/indexing.html#returning-a-view-versus-a-copy\n",
      "  self[name] = value\n"
     ]
    },
    {
     "data": {
      "text/html": [
       "<div>\n",
       "<style scoped>\n",
       "    .dataframe tbody tr th:only-of-type {\n",
       "        vertical-align: middle;\n",
       "    }\n",
       "\n",
       "    .dataframe tbody tr th {\n",
       "        vertical-align: top;\n",
       "    }\n",
       "\n",
       "    .dataframe thead th {\n",
       "        text-align: right;\n",
       "    }\n",
       "</style>\n",
       "<table border=\"1\" class=\"dataframe\">\n",
       "  <thead>\n",
       "    <tr style=\"text-align: right;\">\n",
       "      <th></th>\n",
       "      <th>num_bed_room</th>\n",
       "      <th>num_living_room</th>\n",
       "      <th>room_area</th>\n",
       "      <th>total_height</th>\n",
       "      <th>metro_distance</th>\n",
       "      <th>metro_number</th>\n",
       "      <th>CBD_distance</th>\n",
       "      <th>CBD_number</th>\n",
       "      <th>hosp_distance</th>\n",
       "      <th>hosp_number</th>\n",
       "      <th>...</th>\n",
       "      <th>district_广州周边</th>\n",
       "      <th>district_海珠</th>\n",
       "      <th>district_番禺</th>\n",
       "      <th>district_白云</th>\n",
       "      <th>district_花都</th>\n",
       "      <th>district_荔湾</th>\n",
       "      <th>district_越秀</th>\n",
       "      <th>district_黄埔</th>\n",
       "      <th>elevator_有电梯</th>\n",
       "      <th>price</th>\n",
       "    </tr>\n",
       "  </thead>\n",
       "  <tbody>\n",
       "    <tr>\n",
       "      <td>0</td>\n",
       "      <td>1</td>\n",
       "      <td>0</td>\n",
       "      <td>30.0</td>\n",
       "      <td>9.0</td>\n",
       "      <td>0.441190</td>\n",
       "      <td>1.0</td>\n",
       "      <td>0.813993</td>\n",
       "      <td>3.0</td>\n",
       "      <td>1.049199</td>\n",
       "      <td>0.0</td>\n",
       "      <td>...</td>\n",
       "      <td>0</td>\n",
       "      <td>0</td>\n",
       "      <td>0</td>\n",
       "      <td>0</td>\n",
       "      <td>0</td>\n",
       "      <td>0</td>\n",
       "      <td>0</td>\n",
       "      <td>0</td>\n",
       "      <td>1</td>\n",
       "      <td>80.666667</td>\n",
       "    </tr>\n",
       "    <tr>\n",
       "      <td>1</td>\n",
       "      <td>1</td>\n",
       "      <td>0</td>\n",
       "      <td>30.0</td>\n",
       "      <td>9.0</td>\n",
       "      <td>0.441190</td>\n",
       "      <td>1.0</td>\n",
       "      <td>0.813993</td>\n",
       "      <td>3.0</td>\n",
       "      <td>1.049199</td>\n",
       "      <td>0.0</td>\n",
       "      <td>...</td>\n",
       "      <td>0</td>\n",
       "      <td>0</td>\n",
       "      <td>0</td>\n",
       "      <td>0</td>\n",
       "      <td>0</td>\n",
       "      <td>0</td>\n",
       "      <td>0</td>\n",
       "      <td>0</td>\n",
       "      <td>1</td>\n",
       "      <td>80.666667</td>\n",
       "    </tr>\n",
       "    <tr>\n",
       "      <td>2</td>\n",
       "      <td>1</td>\n",
       "      <td>0</td>\n",
       "      <td>30.0</td>\n",
       "      <td>9.0</td>\n",
       "      <td>0.441190</td>\n",
       "      <td>1.0</td>\n",
       "      <td>0.813993</td>\n",
       "      <td>3.0</td>\n",
       "      <td>1.049199</td>\n",
       "      <td>0.0</td>\n",
       "      <td>...</td>\n",
       "      <td>0</td>\n",
       "      <td>0</td>\n",
       "      <td>0</td>\n",
       "      <td>0</td>\n",
       "      <td>0</td>\n",
       "      <td>0</td>\n",
       "      <td>0</td>\n",
       "      <td>0</td>\n",
       "      <td>1</td>\n",
       "      <td>80.666667</td>\n",
       "    </tr>\n",
       "    <tr>\n",
       "      <td>3</td>\n",
       "      <td>3</td>\n",
       "      <td>2</td>\n",
       "      <td>94.0</td>\n",
       "      <td>8.0</td>\n",
       "      <td>0.884355</td>\n",
       "      <td>1.0</td>\n",
       "      <td>0.812248</td>\n",
       "      <td>3.0</td>\n",
       "      <td>0.967774</td>\n",
       "      <td>2.0</td>\n",
       "      <td>...</td>\n",
       "      <td>0</td>\n",
       "      <td>0</td>\n",
       "      <td>0</td>\n",
       "      <td>0</td>\n",
       "      <td>0</td>\n",
       "      <td>0</td>\n",
       "      <td>0</td>\n",
       "      <td>0</td>\n",
       "      <td>1</td>\n",
       "      <td>55.319149</td>\n",
       "    </tr>\n",
       "    <tr>\n",
       "      <td>4</td>\n",
       "      <td>3</td>\n",
       "      <td>2</td>\n",
       "      <td>94.0</td>\n",
       "      <td>8.0</td>\n",
       "      <td>0.884355</td>\n",
       "      <td>1.0</td>\n",
       "      <td>0.812248</td>\n",
       "      <td>3.0</td>\n",
       "      <td>0.967774</td>\n",
       "      <td>2.0</td>\n",
       "      <td>...</td>\n",
       "      <td>0</td>\n",
       "      <td>0</td>\n",
       "      <td>0</td>\n",
       "      <td>0</td>\n",
       "      <td>0</td>\n",
       "      <td>0</td>\n",
       "      <td>0</td>\n",
       "      <td>0</td>\n",
       "      <td>1</td>\n",
       "      <td>48.936170</td>\n",
       "    </tr>\n",
       "  </tbody>\n",
       "</table>\n",
       "<p>5 rows × 39 columns</p>\n",
       "</div>"
      ],
      "text/plain": [
       "   num_bed_room  num_living_room  room_area  total_height  metro_distance  \\\n",
       "0             1                0       30.0           9.0        0.441190   \n",
       "1             1                0       30.0           9.0        0.441190   \n",
       "2             1                0       30.0           9.0        0.441190   \n",
       "3             3                2       94.0           8.0        0.884355   \n",
       "4             3                2       94.0           8.0        0.884355   \n",
       "\n",
       "   metro_number  CBD_distance  CBD_number  hosp_distance  hosp_number  ...  \\\n",
       "0           1.0      0.813993         3.0       1.049199          0.0  ...   \n",
       "1           1.0      0.813993         3.0       1.049199          0.0  ...   \n",
       "2           1.0      0.813993         3.0       1.049199          0.0  ...   \n",
       "3           1.0      0.812248         3.0       0.967774          2.0  ...   \n",
       "4           1.0      0.812248         3.0       0.967774          2.0  ...   \n",
       "\n",
       "   district_广州周边  district_海珠  district_番禺  district_白云  district_花都  \\\n",
       "0              0            0            0            0            0   \n",
       "1              0            0            0            0            0   \n",
       "2              0            0            0            0            0   \n",
       "3              0            0            0            0            0   \n",
       "4              0            0            0            0            0   \n",
       "\n",
       "   district_荔湾  district_越秀  district_黄埔  elevator_有电梯      price  \n",
       "0            0            0            0             1  80.666667  \n",
       "1            0            0            0             1  80.666667  \n",
       "2            0            0            0             1  80.666667  \n",
       "3            0            0            0             1  55.319149  \n",
       "4            0            0            0             1  48.936170  \n",
       "\n",
       "[5 rows x 39 columns]"
      ]
     },
     "execution_count": 1,
     "metadata": {},
     "output_type": "execute_result"
    }
   ],
   "source": [
    "import numpy as np\n",
    "import pandas as pd\n",
    "import statsmodels.api as sm\n",
    "import matplotlib.pyplot as plt\n",
    "df= pd.read_csv(\"train_data_guangzhou.csv\",encoding=\"utf-8\",index_col = 0)\n",
    "price_mean=df.iloc[:,-1].mean()\n",
    "df1=df[df.iloc[:,-1]<price_mean*1.2]\n",
    "df1.price = df1.price/df1.room_area\n",
    "df1.head()\n",
    "#df.shape"
   ]
  },
  {
   "cell_type": "code",
   "execution_count": 2,
   "metadata": {},
   "outputs": [
    {
     "name": "stderr",
     "output_type": "stream",
     "text": [
      "d:\\python\\lib\\site-packages\\numpy\\core\\fromnumeric.py:2495: FutureWarning: Method .ptp is deprecated and will be removed in a future version. Use numpy.ptp instead.\n",
      "  return ptp(axis=axis, out=out, **kwargs)\n"
     ]
    },
    {
     "name": "stdout",
     "output_type": "stream",
     "text": [
      "                            OLS Regression Results                            \n",
      "==============================================================================\n",
      "Dep. Variable:                  price   R-squared:                       0.543\n",
      "Model:                            OLS   Adj. R-squared:                  0.536\n",
      "Method:                 Least Squares   F-statistic:                     78.29\n",
      "Date:                Sun, 19 Jan 2020   Prob (F-statistic):               0.00\n",
      "Time:                        20:32:11   Log-Likelihood:                -9785.2\n",
      "No. Observations:                2412   AIC:                         1.964e+04\n",
      "Df Residuals:                    2375   BIC:                         1.986e+04\n",
      "Df Model:                          36                                         \n",
      "Covariance Type:            nonrobust                                         \n",
      "=====================================================================================\n",
      "                        coef    std err          t      P>|t|      [0.025      0.975]\n",
      "-------------------------------------------------------------------------------------\n",
      "const                50.9166      4.080     12.481      0.000      42.917      58.917\n",
      "num_bed_room          3.6852      0.700      5.262      0.000       2.312       5.059\n",
      "num_living_room       3.1832      0.644      4.939      0.000       1.919       4.447\n",
      "room_area            -0.3969      0.021    -19.353      0.000      -0.437      -0.357\n",
      "total_height          0.3556      0.037      9.610      0.000       0.283       0.428\n",
      "metro_distance        0.2035      0.500      0.407      0.684      -0.777       1.184\n",
      "metro_number          1.3385      0.311      4.302      0.000       0.728       1.949\n",
      "CBD_distance         -3.8835      0.529     -7.341      0.000      -4.921      -2.846\n",
      "CBD_number            0.0908      0.192      0.473      0.636      -0.286       0.467\n",
      "hosp_distance         0.7888      0.353      2.234      0.026       0.097       1.481\n",
      "hosp_number          -0.1649      0.129     -1.275      0.202      -0.418       0.089\n",
      "school_distance      -1.1456      1.352     -0.848      0.397      -3.796       1.505\n",
      "sch_number           -0.1066      0.099     -1.076      0.282      -0.301       0.088\n",
      "height_type_低层        0.7326      0.772      0.949      0.343      -0.781       2.246\n",
      "height_type_地下    -1.212e-14   3.72e-15     -3.256      0.001   -1.94e-14   -4.82e-15\n",
      "height_type_高层        1.8547      0.682      2.719      0.007       0.517       3.192\n",
      "room_face_type_东南     3.2578      2.340      1.392      0.164      -1.330       7.846\n",
      "room_face_type_东西    -2.5718      3.537     -0.727      0.467      -9.508       4.364\n",
      "room_face_type_南北     0.7863      2.384      0.330      0.742      -3.888       5.460\n",
      "room_face_type_朝东     3.3689      2.534      1.329      0.184      -1.600       8.338\n",
      "room_face_type_朝北     7.1163      2.554      2.787      0.005       2.109      12.124\n",
      "room_face_type_朝南     1.3561      2.270      0.597      0.550      -3.095       5.807\n",
      "room_face_type_朝西     5.4853      3.106      1.766      0.077      -0.604      11.575\n",
      "room_face_type_西北     0.3593      3.033      0.118      0.906      -5.589       6.308\n",
      "room_face_type_西南     5.4195      3.033      1.787      0.074      -0.529      11.368\n",
      "renting_type_整租      -5.5135      3.179     -1.734      0.083     -11.747       0.720\n",
      "district_从化          -7.2910      7.580     -0.962      0.336     -22.156       7.574\n",
      "district_南沙          -0.7308      3.425     -0.213      0.831      -7.446       5.985\n",
      "district_增城         -14.2161      2.220     -6.403      0.000     -18.570      -9.862\n",
      "district_天河          18.1180      1.209     14.982      0.000      15.747      20.489\n",
      "district_广州周边         4.5086      5.918      0.762      0.446      -7.097      16.114\n",
      "district_海珠          14.8851      1.341     11.102      0.000      12.256      17.514\n",
      "district_番禺           3.9552      1.128      3.505      0.000       1.742       6.168\n",
      "district_白云          -1.6659      1.191     -1.398      0.162      -4.002       0.670\n",
      "district_花都          -6.5513      1.806     -3.627      0.000     -10.093      -3.009\n",
      "district_荔湾           8.7855      1.986      4.423      0.000       4.891      12.680\n",
      "district_越秀          27.5665      1.867     14.762      0.000      23.905      31.228\n",
      "district_黄埔           3.5527      1.578      2.251      0.024       0.458       6.648\n",
      "elevator_有电梯          5.0657      0.986      5.139      0.000       3.133       6.999\n",
      "==============================================================================\n",
      "Omnibus:                     1441.069   Durbin-Watson:                   1.914\n",
      "Prob(Omnibus):                  0.000   Jarque-Bera (JB):            34959.889\n",
      "Skew:                           2.366   Prob(JB):                         0.00\n",
      "Kurtosis:                      21.041   Cond. No.                     1.08e+16\n",
      "==============================================================================\n",
      "\n",
      "Warnings:\n",
      "[1] Standard Errors assume that the covariance matrix of the errors is correctly specified.\n",
      "[2] The smallest eigenvalue is 1.32e-25. This might indicate that there are\n",
      "strong multicollinearity problems or that the design matrix is singular.\n"
     ]
    }
   ],
   "source": [
    "n=df1.shape[0]\n",
    "k=df1.shape[1]-1\n",
    "x=df1.iloc[:,:k]\n",
    "X=sm.add_constant(x)\n",
    "y=df1.iloc[:,-1]\n",
    "y_mean=y.mean()\n",
    "model1=sm.OLS(y,X)\n",
    "results1=model1.fit()\n",
    "print(results1.summary())"
   ]
  },
  {
   "cell_type": "code",
   "execution_count": null,
   "metadata": {},
   "outputs": [],
   "source": []
  },
  {
   "cell_type": "code",
   "execution_count": 3,
   "metadata": {},
   "outputs": [
    {
     "data": {
      "image/png": "[encoded data removed]",
      "text/plain": [
       "<Figure size 576x432 with 1 Axes>"
      ]
     },
     "metadata": {
      "needs_background": "light"
     },
     "output_type": "display_data"
    }
   ],
   "source": [
    "#x1=np.linspace(0,n-1,n)\n",
    "fig, ax = plt.subplots(figsize=(8,6))\n",
    "plt.scatter(y, y-results1.fittedvalues,s=30,alpha=0.6)\n",
    "#plt.scatter(x1, results1.fittedvalues,s=30,c='r',label=\"OLS\",alpha=0.6)\n",
    "\n",
    "plt.xlabel(\"rent\")\n",
    "plt.ylabel(\"residuals\")\n",
    "plt.show()"
   ]
  },
  {
   "cell_type": "code",
   "execution_count": 4,
   "metadata": {},
   "outputs": [
    {
     "name": "stdout",
     "output_type": "stream",
     "text": [
      "                            OLS Regression Results                            \n",
      "==============================================================================\n",
      "Dep. Variable:                  price   R-squared:                       0.487\n",
      "Model:                            OLS   Adj. R-squared:                  0.482\n",
      "Method:                 Least Squares   F-statistic:                     113.3\n",
      "Date:                Sun, 19 Jan 2020   Prob (F-statistic):               0.00\n",
      "Time:                        20:33:25   Log-Likelihood:                -9924.9\n",
      "No. Observations:                2412   AIC:                         1.989e+04\n",
      "Df Residuals:                    2391   BIC:                         2.001e+04\n",
      "Df Model:                          20                                         \n",
      "Covariance Type:            nonrobust                                         \n",
      "=====================================================================================\n",
      "                        coef    std err          t      P>|t|      [0.025      0.975]\n",
      "-------------------------------------------------------------------------------------\n",
      "const                64.0093      3.739     17.118      0.000      56.677      71.342\n",
      "num_bed_room          4.1609      0.720      5.782      0.000       2.750       5.572\n",
      "num_living_room       2.3706      0.670      3.540      0.000       1.057       3.684\n",
      "room_area            -0.4247      0.021    -20.065      0.000      -0.466      -0.383\n",
      "total_height          0.4484      0.033     13.764      0.000       0.385       0.512\n",
      "metro_distance        0.1145      0.512      0.224      0.823      -0.889       1.118\n",
      "metro_number          1.8023      0.266      6.783      0.000       1.281       2.323\n",
      "CBD_distance         -3.6665      0.465     -7.892      0.000      -4.577      -2.756\n",
      "hosp_distance         0.5779      0.344      1.680      0.093      -0.097       1.253\n",
      "hosp_number           0.5030      0.111      4.541      0.000       0.286       0.720\n",
      "room_face_type_西北    -0.1107      2.211     -0.050      0.960      -4.446       4.225\n",
      "room_face_type_西南     2.1329      2.202      0.968      0.333      -2.186       6.452\n",
      "renting_type_整租      -5.7783      3.304     -1.749      0.080     -12.258       0.701\n",
      "district_从化         -11.9871      8.662     -1.384      0.167     -28.972       4.998\n",
      "district_南沙          -5.5120      3.714     -1.484      0.138     -12.795       1.771\n",
      "district_增城         -19.2431      2.408     -7.990      0.000     -23.966     -14.520\n",
      "district_天河           7.4318      1.043      7.127      0.000       5.387       9.476\n",
      "district_广州周边        -0.7130      6.734     -0.106      0.916     -13.918      12.492\n",
      "district_海珠           5.3417      1.216      4.392      0.000       2.957       7.727\n",
      "district_番禺          -2.0647      1.051     -1.965      0.050      -4.125      -0.004\n",
      "district_白云          -8.9515      1.091     -8.208      0.000     -11.090      -6.813\n",
      "==============================================================================\n",
      "Omnibus:                     1287.680   Durbin-Watson:                   1.932\n",
      "Prob(Omnibus):                  0.000   Jarque-Bera (JB):            22438.605\n",
      "Skew:                           2.123   Prob(JB):                         0.00\n",
      "Kurtosis:                      17.326   Cond. No.                     2.29e+03\n",
      "==============================================================================\n",
      "\n",
      "Warnings:\n",
      "[1] Standard Errors assume that the covariance matrix of the errors is correctly specified.\n",
      "[2] The condition number is large, 2.29e+03. This might indicate that there are\n",
      "strong multicollinearity or other numerical problems.\n"
     ]
    }
   ],
   "source": [
    "X_new=X.iloc[:,[0,1,2,3,4,5,6,7,9,10,23,24,25,26,27,28,29,30,31,32,33]]\n",
    "model2=sm.OLS(y,X_new)\n",
    "results2=model2.fit()\n",
    "print(results2.summary())"
   ]
  },
  {
   "cell_type": "code",
   "execution_count": 5,
   "metadata": {
    "scrolled": false
   },
   "outputs": [
    {
     "data": {
      "image/png": "[encoded data removed]",
      "text/plain": [
       "<Figure size 576x432 with 1 Axes>"
      ]
     },
     "metadata": {
      "needs_background": "light"
     },
     "output_type": "display_data"
    }
   ],
   "source": [
    "fig, ax = plt.subplots(figsize=(8,6))\n",
    "plt.scatter(y, y-results2.fittedvalues,s=30,alpha=0.6)\n",
    "#plt.scatter(x1, results2.fittedvalues,c='r',s=30,alpha=0.6,label=\"OLS\")\n",
    "plt.xlabel(\"rent\")\n",
    "plt.ylabel(\"residuals\")\n",
    "plt.show()"
   ]
  },
  {
   "cell_type": "code",
   "execution_count": 13,
   "metadata": {},
   "outputs": [
    {
     "data": {
      "text/plain": [
       "array([0.87038379, 0.95772797, 0.98512829, 0.99126962, 0.99513924,\n",
       "       0.99640605, 0.99725631, 0.99767553, 0.99804088, 0.99831262,\n",
       "       0.99852947, 0.99873885, 0.99891927, 0.99908908, 0.99921924,\n",
       "       0.99934061, 0.99944494, 0.9995367 , 0.99961326, 0.99967701,\n",
       "       0.99973107, 0.99977827, 0.99981885, 0.99985187, 0.99987915])"
      ]
     },
     "execution_count": 13,
     "metadata": {},
     "output_type": "execute_result"
    }
   ],
   "source": [
    "from sklearn.decomposition import PCA\n",
    "contribution=np.cumsum(pca.explained_variance_ratio_)\n",
    "contribution"
   ]
  },
  {
   "cell_type": "code",
   "execution_count": 7,
   "metadata": {},
   "outputs": [
    {
     "name": "stdout",
     "output_type": "stream",
     "text": [
      "                            OLS Regression Results                            \n",
      "==============================================================================\n",
      "Dep. Variable:                  price   R-squared:                       0.502\n",
      "Model:                            OLS   Adj. R-squared:                  0.497\n",
      "Method:                 Least Squares   F-statistic:                     96.39\n",
      "Date:                Sun, 19 Jan 2020   Prob (F-statistic):               0.00\n",
      "Time:                        20:33:27   Log-Likelihood:                -2580.0\n",
      "No. Observations:                2412   AIC:                             5212.\n",
      "Df Residuals:                    2386   BIC:                             5363.\n",
      "Df Model:                          25                                         \n",
      "Covariance Type:            nonrobust                                         \n",
      "==============================================================================\n",
      "                 coef    std err          t      P>|t|      [0.025      0.975]\n",
      "------------------------------------------------------------------------------\n",
      "const       2.776e-17      0.014   1.92e-15      1.000      -0.028       0.028\n",
      "x1            -0.0145      0.000    -31.703      0.000      -0.015      -0.014\n",
      "x2             0.0227      0.001     15.729      0.000       0.020       0.026\n",
      "x3             0.0544      0.003     21.059      0.000       0.049       0.059\n",
      "x4             0.0153      0.005      2.812      0.005       0.005       0.026\n",
      "x5            -0.0565      0.007     -8.218      0.000      -0.070      -0.043\n",
      "x6            -0.0579      0.012     -4.821      0.000      -0.081      -0.034\n",
      "x7             0.0530      0.015      3.619      0.000       0.024       0.082\n",
      "x8            -0.1915      0.021     -9.171      0.000      -0.232      -0.151\n",
      "x9             0.1599      0.022      7.150      0.000       0.116       0.204\n",
      "x10            0.0110      0.026      0.423      0.672      -0.040       0.062\n",
      "x11           -0.1225      0.029     -4.221      0.000      -0.179      -0.066\n",
      "x12        -1.824e-05      0.030     -0.001      1.000      -0.058       0.058\n",
      "x13            0.3677      0.032     11.554      0.000       0.305       0.430\n",
      "x14            0.3753      0.033     11.442      0.000       0.311       0.440\n",
      "x15            0.0910      0.037      2.427      0.015       0.017       0.164\n",
      "x16            0.0043      0.039      0.110      0.913      -0.072       0.080\n",
      "x17            0.1303      0.042      3.114      0.002       0.048       0.212\n",
      "x18            0.0587      0.045      1.315      0.189      -0.029       0.146\n",
      "x19           -0.4617      0.049     -9.452      0.000      -0.558      -0.366\n",
      "x20            0.0153      0.054      0.286      0.775      -0.090       0.120\n",
      "x21            0.0775      0.058      1.334      0.182      -0.036       0.192\n",
      "x22            0.1485      0.062      2.387      0.017       0.026       0.270\n",
      "x23           -0.1591      0.067     -2.370      0.018      -0.291      -0.027\n",
      "x24            0.0560      0.074      0.753      0.452      -0.090       0.202\n",
      "x25           -0.6551      0.082     -8.003      0.000      -0.816      -0.495\n",
      "==============================================================================\n",
      "Omnibus:                     1241.831   Durbin-Watson:                   1.917\n",
      "Prob(Omnibus):                  0.000   Jarque-Bera (JB):            20926.721\n",
      "Skew:                           2.030   Prob(JB):                         0.00\n",
      "Kurtosis:                      16.847   Cond. No.                         179.\n",
      "==============================================================================\n",
      "\n",
      "Warnings:\n",
      "[1] Standard Errors assume that the covariance matrix of the errors is correctly specified.\n"
     ]
    }
   ],
   "source": [
    "pca = PCA(n_components=25)\n",
    "pca.fit(x)\n",
    "reduced_x=pca.fit_transform(x)\n",
    "reduced_X=sm.add_constant(reduced_x)\n",
    "y_norm=(y-y.mean())/y.std()\n",
    "model3=sm.OLS(y_norm,reduced_X)\n",
    "results3=model3.fit()\n",
    "print(results3.summary())"
   ]
  },
  {
   "cell_type": "code",
   "execution_count": 8,
   "metadata": {},
   "outputs": [
    {
     "data": {
      "image/png": "[encoded data removed]",
      "text/plain": [
       "<Figure size 576x432 with 1 Axes>"
      ]
     },
     "metadata": {
      "needs_background": "light"
     },
     "output_type": "display_data"
    }
   ],
   "source": [
    "fig, ax = plt.subplots(figsize=(8,6))\n",
    "plt.scatter(y_norm, y_norm-results3.fittedvalues,s=30,alpha=0.6)\n",
    "#plt.scatter(x1, results3.fittedvalues,c='r',s=30,alpha=0.6,label=\"PCA\")\n",
    "plt.xlabel(\"rent\")\n",
    "plt.ylabel(\"residuals\")\n",
    "plt.show()"
   ]
  },
  {
   "cell_type": "code",
   "execution_count": 9,
   "metadata": {},
   "outputs": [
    {
     "name": "stdout",
     "output_type": "stream",
     "text": [
      "系数矩阵:\n",
      " [  0.65295585   1.42133582  -0.27017907   0.3327394   -0.32010317\n",
      "   1.13304864  -3.20564524   0.22894793   0.49165097  -0.05601767\n",
      "  -1.77942844  -0.02510732   0.75631971   0.           1.72819171\n",
      "   1.14762897  -4.0933356   -0.89541315   1.35867782   4.71949116\n",
      "  -0.62367334   4.08917394  -0.97321528   3.71221301 -16.90886551\n",
      " -15.97256338  -8.52707741 -19.72429377   8.06760457  -4.3694604\n",
      "   6.100795    -3.50602648  -8.91173358 -13.88174787   0.45329034\n",
      "  16.07122481  -2.76423252   4.24999487]\n",
      "常数项:\n",
      " 72.80048702626878\n",
      "线性回归模型:\n",
      " RidgeCV(alphas=array([ 0.1,  1. , 10. ]), cv=None, fit_intercept=True,\n",
      "        gcv_mode=None, normalize=True, scoring=None, store_cv_values=False)\n",
      "最佳的alpha： 0.1\n"
     ]
    }
   ],
   "source": [
    "from sklearn.linear_model import Ridge,RidgeCV\n",
    "#model = RidgeCV(alphas=[0.1, 1.0, 10.0])\n",
    "model=RidgeCV(alphas=[0.1, 1.0, 10.0], cv=None, fit_intercept=True, scoring=None, normalize=True)\n",
    "model.fit(x, y) \n",
    "print('系数矩阵:\\n',model.coef_)\n",
    "print('常数项:\\n',model.intercept_)\n",
    "print('线性回归模型:\\n',model)\n",
    "Ridge = model.predict(x)\n",
    "print('最佳的alpha：',model.alpha_)"
   ]
  },
  {
   "cell_type": "code",
   "execution_count": 10,
   "metadata": {},
   "outputs": [
    {
     "name": "stderr",
     "output_type": "stream",
     "text": [
      "No handles with labels found to put in legend.\n"
     ]
    },
    {
     "data": {
      "image/png": "[encoded data removed]",
      "text/plain": [
       "<Figure size 432x288 with 1 Axes>"
      ]
     },
     "metadata": {
      "needs_background": "light"
     },
     "output_type": "display_data"
    },
    {
     "name": "stdout",
     "output_type": "stream",
     "text": [
      "R_square： 0.5317783602290315\n",
      "R_square_adjust： 0.524280500005139\n"
     ]
    }
   ],
   "source": [
    "#plt.scatter(x1, y,label=\"data\",s=30,alpha=0.6)\n",
    "plt.scatter(y, y-Ridge,label=\"Ridge\",s=30,alpha=0.6)\n",
    "ax.legend(loc='best')\n",
    "plt.xlabel(\"x\")\n",
    "plt.ylabel(\"y\")\n",
    "plt.show()\n",
    "RSS=np.sum((y-Ridge)**2)\n",
    "TSS=np.sum((y-y_mean)**2)\n",
    "R_square_Ridge=1-RSS/TSS\n",
    "R_adj_Ridge=1-(n-1)*(1-R_square_Ridge)/(n-k-1)\n",
    "print('R_square：',R_square_Ridge)\n",
    "print('R_square_adjust：',R_adj_Ridge)"
   ]
  },
  {
   "cell_type": "code",
   "execution_count": 11,
   "metadata": {},
   "outputs": [
    {
     "name": "stdout",
     "output_type": "stream",
     "text": [
      "系数矩阵:\n",
      " [  3.43234209   2.95713575  -0.38697058   0.35936791   0.04742874\n",
      "   1.28707517  -3.80732607   0.07417476   0.65461482  -0.13382892\n",
      "  -0.90265809  -0.0606377    0.53723623   0.           1.75494549\n",
      "   1.82396674  -3.46140088  -0.29957536   1.86078972   5.58397959\n",
      "  -0.           3.94778752  -0.55009917   3.92834962  -6.42024879\n",
      "  -9.92389892  -3.677739   -17.60259149  13.52395507   0.\n",
      "  10.29394842  -0.          -5.77467739 -10.26219722   3.94992959\n",
      "  22.44667481  -0.02659516   4.84017711]\n",
      "常数项:\n",
      " 57.55998639141707\n",
      "线性回归模型:\n",
      " LassoCV(alphas=[0.001, 0.01, 0.1, 1.0, 10.0], copy_X=True, cv=None, eps=0.001,\n",
      "        fit_intercept=True, max_iter=1000, n_alphas=100, n_jobs=None,\n",
      "        normalize=True, positive=False, precompute='auto', random_state=None,\n",
      "        selection='cyclic', tol=0.0001, verbose=False)\n",
      "最佳的alpha： 0.001\n"
     ]
    }
   ],
   "source": [
    "from sklearn.linear_model import Lasso,LassoCV,LassoLarsCV \n",
    "#model = LassoCV(alphas=[0.1, 1.0, 10.0])\n",
    "model=LassoCV(alphas=[0.001,0.01,0.1, 1.0, 10.0], cv=None, fit_intercept=True, normalize=True)\n",
    "model.fit(x, y)\n",
    "print('系数矩阵:\\n',model.coef_)\n",
    "print('常数项:\\n',model.intercept_)\n",
    "print('线性回归模型:\\n',model)\n",
    "LASSO = model.predict(x)\n",
    "print('最佳的alpha：',model.alpha_)"
   ]
  },
  {
   "cell_type": "code",
   "execution_count": 12,
   "metadata": {},
   "outputs": [
    {
     "name": "stderr",
     "output_type": "stream",
     "text": [
      "No handles with labels found to put in legend.\n"
     ]
    },
    {
     "data": {
      "image/png": "[encoded data removed]",
      "text/plain": [
       "<Figure size 432x288 with 1 Axes>"
      ]
     },
     "metadata": {
      "needs_background": "light"
     },
     "output_type": "display_data"
    },
    {
     "name": "stdout",
     "output_type": "stream",
     "text": [
      "R_square： 0.5422701989387995\n",
      "R_square_adjust： 0.5349403496171283\n"
     ]
    }
   ],
   "source": [
    "#plt.scatter(x1, y,label=\"data\")\n",
    "plt.scatter(y, y-LASSO,label=\"LASSO\")\n",
    "ax.legend(loc='best')\n",
    "plt.xlabel(\"x\")\n",
    "plt.ylabel(\"y\")\n",
    "plt.show()\n",
    "RSS_LASSO=np.sum((y-LASSO)**2)\n",
    "TSS=np.sum((y-y_mean)**2)\n",
    "R_square_LASSO=1-RSS_LASSO/TSS\n",
    "R_adj_LASSO=1-(n-1)*(1-R_square_LASSO)/(n-k-1)\n",
    "print('R_square：',R_square_LASSO)\n",
    "print('R_square_adjust：',R_adj_LASSO)"
   ]
  },
  {
   "cell_type": "code",
   "execution_count": null,
   "metadata": {},
   "outputs": [],
   "source": []
  },
  {
   "cell_type": "code",
   "execution_count": null,
   "metadata": {},
   "outputs": [],
   "source": []
  }
 ],
 "metadata": {
  "kernelspec": {
   "display_name": "Python 3",
   "language": "python",
   "name": "python3"
  },
  "language_info": {
   "codemirror_mode": {
    "name": "ipython",
    "version": 3
   },
   "file_extension": ".py",
   "mimetype": "text/x-python",
   "name": "python",
   "nbconvert_exporter": "python",
   "pygments_lexer": "ipython3",
   "version": "3.7.4"
  }
 },
 "nbformat": 4,
 "nbformat_minor": 2
}
